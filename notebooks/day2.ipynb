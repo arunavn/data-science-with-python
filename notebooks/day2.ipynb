{
 "cells": [
  {
   "cell_type": "code",
   "execution_count": 65,
   "metadata": {},
   "outputs": [
    {
     "name": "stdout",
     "output_type": "stream",
     "text": [
      "Hello World\n"
     ]
    }
   ],
   "source": [
    "print(\"Hello World\")"
   ]
  },
  {
   "cell_type": "markdown",
   "metadata": {},
   "source": [
    "<h3>Variable</h3>"
   ]
  },
  {
   "cell_type": "code",
   "execution_count": 66,
   "metadata": {},
   "outputs": [
    {
     "data": {
      "text/plain": [
       "(0.5, 'test')"
      ]
     },
     "execution_count": 66,
     "metadata": {},
     "output_type": "execute_result"
    }
   ],
   "source": [
    "x1 = 0.5\n",
    "x2 = \"test\"\n",
    "x1, x2\n"
   ]
  },
  {
   "cell_type": "markdown",
   "metadata": {},
   "source": [
    "<h3>List<h3>"
   ]
  },
  {
   "cell_type": "code",
   "execution_count": 67,
   "metadata": {},
   "outputs": [
    {
     "data": {
      "text/plain": [
       "list"
      ]
     },
     "execution_count": 67,
     "metadata": {},
     "output_type": "execute_result"
    }
   ],
   "source": [
    "l1 = []\n",
    "l1 = [10, 20, 30, 40]\n",
    "type(l1)"
   ]
  },
  {
   "cell_type": "code",
   "execution_count": 68,
   "metadata": {},
   "outputs": [
    {
     "data": {
      "text/plain": [
       "(10, 20, 30, 40)"
      ]
     },
     "execution_count": 68,
     "metadata": {},
     "output_type": "execute_result"
    }
   ],
   "source": [
    "l1[0], l1[1], l1[-2], l1[-1]"
   ]
  },
  {
   "cell_type": "code",
   "execution_count": 69,
   "metadata": {},
   "outputs": [
    {
     "name": "stdout",
     "output_type": "stream",
     "text": [
      "append [10, 20, 30, 40, 50]\n",
      "extend [10, 20, 30, 40, 50, 60, 70, 80]\n",
      "insert [99, 10, 20, 30, 40, 50, 60, 70, 80]\n"
     ]
    }
   ],
   "source": [
    "#APPEND\n",
    "l1.append(50)\n",
    "print(\"append\", l1)\n",
    "\n",
    "#extend\n",
    "l2 = [60, 70, 80]\n",
    "l1.extend(l2)\n",
    "print(\"extend\", l1)\n",
    "\n",
    "#insert\n",
    "l1.insert(0, 99)\n",
    "print(\"insert\", l1)\n"
   ]
  },
  {
   "cell_type": "code",
   "execution_count": 70,
   "metadata": {},
   "outputs": [
    {
     "name": "stdout",
     "output_type": "stream",
     "text": [
      "popped [99, 10, 20, 30, 40, 50, 60, 70]\n",
      "popped 0th element [10, 20, 30, 40, 50, 60, 70]\n",
      "removed 50 [10, 20, 30, 40, 60, 70]\n"
     ]
    }
   ],
   "source": [
    "#pop\n",
    "l1.pop()\n",
    "print(\"popped\", l1)\n",
    "\n",
    "#pop with index\n",
    "l1.pop(0)\n",
    "print(\"popped 0th element\", l1)\n",
    "\n",
    "#remove\n",
    "value_to_remove = 50\n",
    "l1.remove(value_to_remove)\n",
    "print(\"removed 50\", l1)"
   ]
  },
  {
   "cell_type": "code",
   "execution_count": 71,
   "metadata": {},
   "outputs": [
    {
     "name": "stdout",
     "output_type": "stream",
     "text": [
      "[10, 20, 30, 40, 60, 70]\n",
      "[70, 60, 40, 30, 20, 10]\n"
     ]
    }
   ],
   "source": [
    "#sort\n",
    "l1.sort()\n",
    "print(l1)\n",
    "\n",
    "l1.sort(reverse=True)\n",
    "print(l1)"
   ]
  }
 ],
 "metadata": {
  "kernelspec": {
   "display_name": "Python 3",
   "language": "python",
   "name": "python3"
  },
  "language_info": {
   "codemirror_mode": {
    "name": "ipython",
    "version": 3
   },
   "file_extension": ".py",
   "mimetype": "text/x-python",
   "name": "python",
   "nbconvert_exporter": "python",
   "pygments_lexer": "ipython3",
   "version": "3.10.12"
  },
  "orig_nbformat": 4
 },
 "nbformat": 4,
 "nbformat_minor": 2
}
