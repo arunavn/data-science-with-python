{
 "cells": [
  {
   "cell_type": "code",
   "execution_count": 74,
   "metadata": {},
   "outputs": [],
   "source": [
    "import pandas as pd\n",
    "import numpy as np\n",
    "import matplotlib.pyplot as plt\n",
    "import seaborn as sns"
   ]
  },
  {
   "cell_type": "markdown",
   "metadata": {},
   "source": [
    "# Step 1: Import Data"
   ]
  },
  {
   "cell_type": "markdown",
   "metadata": {},
   "source": [
    "## A. Read and Check Data"
   ]
  },
  {
   "cell_type": "code",
   "execution_count": 75,
   "metadata": {},
   "outputs": [],
   "source": [
    "src_df =  pd.read_excel('1688639662_ausapparalsales4thqrt2020.xlsx')"
   ]
  },
  {
   "cell_type": "code",
   "execution_count": 76,
   "metadata": {},
   "outputs": [
    {
     "data": {
      "text/plain": [
       "(7560, 6)"
      ]
     },
     "execution_count": 76,
     "metadata": {},
     "output_type": "execute_result"
    }
   ],
   "source": [
    "src_df.shape"
   ]
  },
  {
   "cell_type": "code",
   "execution_count": 77,
   "metadata": {},
   "outputs": [
    {
     "data": {
      "text/plain": [
       "Index(['Date', 'Time', 'State', 'Group', 'Unit', 'Sales'], dtype='object')"
      ]
     },
     "execution_count": 77,
     "metadata": {},
     "output_type": "execute_result"
    }
   ],
   "source": [
    "src_df.columns"
   ]
  },
  {
   "cell_type": "code",
   "execution_count": 78,
   "metadata": {},
   "outputs": [
    {
     "data": {
      "text/html": [
       "<div>\n",
       "<style scoped>\n",
       "    .dataframe tbody tr th:only-of-type {\n",
       "        vertical-align: middle;\n",
       "    }\n",
       "\n",
       "    .dataframe tbody tr th {\n",
       "        vertical-align: top;\n",
       "    }\n",
       "\n",
       "    .dataframe thead th {\n",
       "        text-align: right;\n",
       "    }\n",
       "</style>\n",
       "<table border=\"1\" class=\"dataframe\">\n",
       "  <thead>\n",
       "    <tr style=\"text-align: right;\">\n",
       "      <th></th>\n",
       "      <th>Date</th>\n",
       "      <th>Unit</th>\n",
       "      <th>Sales</th>\n",
       "    </tr>\n",
       "  </thead>\n",
       "  <tbody>\n",
       "    <tr>\n",
       "      <th>count</th>\n",
       "      <td>7560</td>\n",
       "      <td>7560.000000</td>\n",
       "      <td>7560.000000</td>\n",
       "    </tr>\n",
       "    <tr>\n",
       "      <th>mean</th>\n",
       "      <td>2020-11-15 04:00:00.000000256</td>\n",
       "      <td>18.005423</td>\n",
       "      <td>45013.558201</td>\n",
       "    </tr>\n",
       "    <tr>\n",
       "      <th>min</th>\n",
       "      <td>2020-10-01 00:00:00</td>\n",
       "      <td>2.000000</td>\n",
       "      <td>5000.000000</td>\n",
       "    </tr>\n",
       "    <tr>\n",
       "      <th>25%</th>\n",
       "      <td>2020-10-23 00:00:00</td>\n",
       "      <td>8.000000</td>\n",
       "      <td>20000.000000</td>\n",
       "    </tr>\n",
       "    <tr>\n",
       "      <th>50%</th>\n",
       "      <td>2020-11-15 12:00:00</td>\n",
       "      <td>14.000000</td>\n",
       "      <td>35000.000000</td>\n",
       "    </tr>\n",
       "    <tr>\n",
       "      <th>75%</th>\n",
       "      <td>2020-12-08 00:00:00</td>\n",
       "      <td>26.000000</td>\n",
       "      <td>65000.000000</td>\n",
       "    </tr>\n",
       "    <tr>\n",
       "      <th>max</th>\n",
       "      <td>2020-12-30 00:00:00</td>\n",
       "      <td>65.000000</td>\n",
       "      <td>162500.000000</td>\n",
       "    </tr>\n",
       "    <tr>\n",
       "      <th>std</th>\n",
       "      <td>NaN</td>\n",
       "      <td>12.901403</td>\n",
       "      <td>32253.506944</td>\n",
       "    </tr>\n",
       "  </tbody>\n",
       "</table>\n",
       "</div>"
      ],
      "text/plain": [
       "                                Date         Unit          Sales\n",
       "count                           7560  7560.000000    7560.000000\n",
       "mean   2020-11-15 04:00:00.000000256    18.005423   45013.558201\n",
       "min              2020-10-01 00:00:00     2.000000    5000.000000\n",
       "25%              2020-10-23 00:00:00     8.000000   20000.000000\n",
       "50%              2020-11-15 12:00:00    14.000000   35000.000000\n",
       "75%              2020-12-08 00:00:00    26.000000   65000.000000\n",
       "max              2020-12-30 00:00:00    65.000000  162500.000000\n",
       "std                              NaN    12.901403   32253.506944"
      ]
     },
     "execution_count": 78,
     "metadata": {},
     "output_type": "execute_result"
    }
   ],
   "source": [
    "src_df.describe()"
   ]
  },
  {
   "cell_type": "code",
   "execution_count": 79,
   "metadata": {},
   "outputs": [
    {
     "data": {
      "text/html": [
       "<div>\n",
       "<style scoped>\n",
       "    .dataframe tbody tr th:only-of-type {\n",
       "        vertical-align: middle;\n",
       "    }\n",
       "\n",
       "    .dataframe tbody tr th {\n",
       "        vertical-align: top;\n",
       "    }\n",
       "\n",
       "    .dataframe thead th {\n",
       "        text-align: right;\n",
       "    }\n",
       "</style>\n",
       "<table border=\"1\" class=\"dataframe\">\n",
       "  <thead>\n",
       "    <tr style=\"text-align: right;\">\n",
       "      <th></th>\n",
       "      <th>Date</th>\n",
       "      <th>Time</th>\n",
       "      <th>State</th>\n",
       "      <th>Group</th>\n",
       "      <th>Unit</th>\n",
       "      <th>Sales</th>\n",
       "    </tr>\n",
       "  </thead>\n",
       "  <tbody>\n",
       "    <tr>\n",
       "      <th>0</th>\n",
       "      <td>2020-10-01</td>\n",
       "      <td>Morning</td>\n",
       "      <td>WA</td>\n",
       "      <td>Kids</td>\n",
       "      <td>8</td>\n",
       "      <td>20000</td>\n",
       "    </tr>\n",
       "    <tr>\n",
       "      <th>1</th>\n",
       "      <td>2020-10-01</td>\n",
       "      <td>Morning</td>\n",
       "      <td>WA</td>\n",
       "      <td>Men</td>\n",
       "      <td>8</td>\n",
       "      <td>20000</td>\n",
       "    </tr>\n",
       "    <tr>\n",
       "      <th>2</th>\n",
       "      <td>2020-10-01</td>\n",
       "      <td>Morning</td>\n",
       "      <td>WA</td>\n",
       "      <td>Women</td>\n",
       "      <td>4</td>\n",
       "      <td>10000</td>\n",
       "    </tr>\n",
       "  </tbody>\n",
       "</table>\n",
       "</div>"
      ],
      "text/plain": [
       "        Date      Time State   Group  Unit  Sales\n",
       "0 2020-10-01   Morning    WA    Kids     8  20000\n",
       "1 2020-10-01   Morning    WA     Men     8  20000\n",
       "2 2020-10-01   Morning    WA   Women     4  10000"
      ]
     },
     "execution_count": 79,
     "metadata": {},
     "output_type": "execute_result"
    }
   ],
   "source": [
    "src_df.head(3)"
   ]
  },
  {
   "cell_type": "markdown",
   "metadata": {},
   "source": [
    "## B. Get numerical and Categorical Columns"
   ]
  },
  {
   "cell_type": "code",
   "execution_count": 80,
   "metadata": {},
   "outputs": [
    {
     "data": {
      "text/plain": [
       "['Unit', 'Sales']"
      ]
     },
     "execution_count": 80,
     "metadata": {},
     "output_type": "execute_result"
    }
   ],
   "source": [
    "numerical_columns = list(src_df._get_numeric_data().columns)\n",
    "numerical_columns"
   ]
  },
  {
   "cell_type": "code",
   "execution_count": 81,
   "metadata": {},
   "outputs": [
    {
     "data": {
      "text/plain": [
       "['Time', 'State', 'Group', 'Date']"
      ]
     },
     "execution_count": 81,
     "metadata": {},
     "output_type": "execute_result"
    }
   ],
   "source": [
    "categorical_columns = list( set(src_df.columns)- set(numerical_columns) )\n",
    "categorical_columns"
   ]
  },
  {
   "cell_type": "markdown",
   "metadata": {},
   "source": [
    "### Observation \n",
    "- Unit and sales are numerical columns\n",
    "- Date, Time, Group and State are the Categorical colums"
   ]
  },
  {
   "cell_type": "markdown",
   "metadata": {},
   "source": [
    "## C. Null Check"
   ]
  },
  {
   "cell_type": "code",
   "execution_count": 82,
   "metadata": {},
   "outputs": [
    {
     "data": {
      "text/plain": [
       "Date     0\n",
       "Time     0\n",
       "State    0\n",
       "Group    0\n",
       "Unit     0\n",
       "Sales    0\n",
       "dtype: int64"
      ]
     },
     "execution_count": 82,
     "metadata": {},
     "output_type": "execute_result"
    }
   ],
   "source": [
    "src_df.isna().sum()"
   ]
  },
  {
   "cell_type": "markdown",
   "metadata": {},
   "source": [
    "### Observation \n",
    "- No columns have null value"
   ]
  },
  {
   "cell_type": "markdown",
   "metadata": {},
   "source": [
    "## D. Analyzing the Numerical Columns"
   ]
  },
  {
   "cell_type": "markdown",
   "metadata": {},
   "source": [
    "### 1. Univariate\n",
    "We will plot Violin PLots for the the two numerical columns"
   ]
  },
  {
   "cell_type": "code",
   "execution_count": 83,
   "metadata": {},
   "outputs": [
    {
     "data": {
      "image/png": "[encoded data removed]",
      "text/plain": [
       "<Figure size 1500x400 with 2 Axes>"
      ]
     },
     "metadata": {},
     "output_type": "display_data"
    }
   ],
   "source": [
    "plt.figure(figsize=(15,4))\n",
    "plt.subplot(1,2,1)\n",
    "sns.violinplot(src_df['Unit'])\n",
    "plt.subplot(1,2,2)\n",
    "sns.violinplot(src_df['Sales'])\n",
    "plt.show()\n"
   ]
  },
  {
   "cell_type": "markdown",
   "metadata": {},
   "source": [
    "### 2. Multivariate\n",
    "Plotting a scatter plot to compare sales and Units"
   ]
  },
  {
   "cell_type": "code",
   "execution_count": 84,
   "metadata": {},
   "outputs": [
    {
     "data": {
      "text/plain": [
       "<Axes: xlabel='Sales', ylabel='Unit'>"
      ]
     },
     "execution_count": 84,
     "metadata": {},
     "output_type": "execute_result"
    },
    {
     "data": {
      "image/png": "[encoded data removed]",
      "text/plain": [
       "<Figure size 640x480 with 1 Axes>"
      ]
     },
     "metadata": {},
     "output_type": "display_data"
    }
   ],
   "source": [
    "sns.scatterplot(data=src_df, x='Sales', y ='Unit',)"
   ]
  },
  {
   "cell_type": "code",
   "execution_count": 85,
   "metadata": {},
   "outputs": [
    {
     "data": {
      "text/html": [
       "<div>\n",
       "<style scoped>\n",
       "    .dataframe tbody tr th:only-of-type {\n",
       "        vertical-align: middle;\n",
       "    }\n",
       "\n",
       "    .dataframe tbody tr th {\n",
       "        vertical-align: top;\n",
       "    }\n",
       "\n",
       "    .dataframe thead th {\n",
       "        text-align: right;\n",
       "    }\n",
       "</style>\n",
       "<table border=\"1\" class=\"dataframe\">\n",
       "  <thead>\n",
       "    <tr style=\"text-align: right;\">\n",
       "      <th></th>\n",
       "      <th>Unit</th>\n",
       "      <th>Sales</th>\n",
       "    </tr>\n",
       "  </thead>\n",
       "  <tbody>\n",
       "    <tr>\n",
       "      <th>Unit</th>\n",
       "      <td>1.0</td>\n",
       "      <td>1.0</td>\n",
       "    </tr>\n",
       "    <tr>\n",
       "      <th>Sales</th>\n",
       "      <td>1.0</td>\n",
       "      <td>1.0</td>\n",
       "    </tr>\n",
       "  </tbody>\n",
       "</table>\n",
       "</div>"
      ],
      "text/plain": [
       "       Unit  Sales\n",
       "Unit    1.0    1.0\n",
       "Sales   1.0    1.0"
      ]
     },
     "execution_count": 85,
     "metadata": {},
     "output_type": "execute_result"
    }
   ],
   "source": [
    "numerical_corr = src_df[numerical_columns].corr()\n",
    "numerical_corr"
   ]
  },
  {
   "cell_type": "markdown",
   "metadata": {},
   "source": [
    "### 3. Observation\n",
    "The above analysis proves that the two numerical columns are entirely correlated with each other and so for all the further sales analysis we can pick either 'Sales' or 'Unit'"
   ]
  },
  {
   "cell_type": "markdown",
   "metadata": {},
   "source": [
    "## E. Analyzing categorical Columns"
   ]
  },
  {
   "cell_type": "markdown",
   "metadata": {},
   "source": [
    "### 1. Univariate"
   ]
  },
  {
   "cell_type": "markdown",
   "metadata": {},
   "source": [
    "#### a. Checking distinct values in each columns"
   ]
  },
  {
   "cell_type": "code",
   "execution_count": 86,
   "metadata": {},
   "outputs": [
    {
     "name": "stdout",
     "output_type": "stream",
     "text": [
      "Time ---> [' Morning' ' Afternoon' ' Evening']\n",
      "State ---> [' WA' ' NT' ' SA' ' VIC' ' QLD' ' NSW' ' TAS']\n",
      "Group ---> [' Kids' ' Men' ' Women' ' Seniors']\n",
      "Date ---> <DatetimeArray>\n",
      "['2020-10-01 00:00:00', '2020-10-02 00:00:00', '2020-10-03 00:00:00',\n",
      " '2020-10-04 00:00:00', '2020-10-05 00:00:00', '2020-10-06 00:00:00',\n",
      " '2020-10-07 00:00:00', '2020-10-08 00:00:00', '2020-10-09 00:00:00',\n",
      " '2020-10-10 00:00:00', '2020-10-11 00:00:00', '2020-10-12 00:00:00',\n",
      " '2020-10-13 00:00:00', '2020-10-14 00:00:00', '2020-10-15 00:00:00',\n",
      " '2020-10-16 00:00:00', '2020-10-17 00:00:00', '2020-10-18 00:00:00',\n",
      " '2020-10-19 00:00:00', '2020-10-20 00:00:00', '2020-10-21 00:00:00',\n",
      " '2020-10-22 00:00:00', '2020-10-23 00:00:00', '2020-10-24 00:00:00',\n",
      " '2020-10-25 00:00:00', '2020-10-26 00:00:00', '2020-10-27 00:00:00',\n",
      " '2020-10-28 00:00:00', '2020-10-29 00:00:00', '2020-10-30 00:00:00',\n",
      " '2020-11-01 00:00:00', '2020-11-02 00:00:00', '2020-11-03 00:00:00',\n",
      " '2020-11-04 00:00:00', '2020-11-05 00:00:00', '2020-11-06 00:00:00',\n",
      " '2020-11-07 00:00:00', '2020-11-08 00:00:00', '2020-11-09 00:00:00',\n",
      " '2020-11-10 00:00:00', '2020-11-11 00:00:00', '2020-11-12 00:00:00',\n",
      " '2020-11-13 00:00:00', '2020-11-14 00:00:00', '2020-11-15 00:00:00',\n",
      " '2020-11-16 00:00:00', '2020-11-17 00:00:00', '2020-11-18 00:00:00',\n",
      " '2020-11-19 00:00:00', '2020-11-20 00:00:00', '2020-11-21 00:00:00',\n",
      " '2020-11-22 00:00:00', '2020-11-23 00:00:00', '2020-11-24 00:00:00',\n",
      " '2020-11-25 00:00:00', '2020-11-26 00:00:00', '2020-11-27 00:00:00',\n",
      " '2020-11-28 00:00:00', '2020-11-29 00:00:00', '2020-11-30 00:00:00',\n",
      " '2020-12-01 00:00:00', '2020-12-02 00:00:00', '2020-12-03 00:00:00',\n",
      " '2020-12-04 00:00:00', '2020-12-05 00:00:00', '2020-12-06 00:00:00',\n",
      " '2020-12-07 00:00:00', '2020-12-08 00:00:00', '2020-12-09 00:00:00',\n",
      " '2020-12-10 00:00:00', '2020-12-11 00:00:00', '2020-12-12 00:00:00',\n",
      " '2020-12-13 00:00:00', '2020-12-14 00:00:00', '2020-12-15 00:00:00',\n",
      " '2020-12-16 00:00:00', '2020-12-17 00:00:00', '2020-12-18 00:00:00',\n",
      " '2020-12-19 00:00:00', '2020-12-20 00:00:00', '2020-12-21 00:00:00',\n",
      " '2020-12-22 00:00:00', '2020-12-23 00:00:00', '2020-12-24 00:00:00',\n",
      " '2020-12-25 00:00:00', '2020-12-26 00:00:00', '2020-12-27 00:00:00',\n",
      " '2020-12-28 00:00:00', '2020-12-29 00:00:00', '2020-12-30 00:00:00']\n",
      "Length: 90, dtype: datetime64[ns]\n"
     ]
    }
   ],
   "source": [
    "for c in categorical_columns:\n",
    "    print(c, '--->',src_df[c].unique())"
   ]
  },
  {
   "cell_type": "markdown",
   "metadata": {},
   "source": [
    "#### b.Looking on how the \"Time\", \"State\" and \"Group\" are distributed"
   ]
  },
  {
   "cell_type": "code",
   "execution_count": 87,
   "metadata": {},
   "outputs": [
    {
     "data": {
      "image/png": "[encoded data removed]",
      "text/plain": [
       "<Figure size 2000x1000 with 3 Axes>"
      ]
     },
     "metadata": {},
     "output_type": "display_data"
    }
   ],
   "source": [
    "from math import ceil\n",
    "import seaborn as sns\n",
    "test_cat = [\"Time\", \"State\" ,\"Group\"]\n",
    "plt.figure(figsize=(20, 10))\n",
    "nrows = ceil( len(test_cat) / 2 )\n",
    "for i, c in enumerate(test_cat):\n",
    "    plt.subplot(nrows, 2 , i+1)\n",
    "    sns.countplot(data=src_df, y=c)\n",
    "plt.show()"
   ]
  },
  {
   "cell_type": "markdown",
   "metadata": {},
   "source": []
  },
  {
   "cell_type": "code",
   "execution_count": null,
   "metadata": {},
   "outputs": [],
   "source": []
  },
  {
   "cell_type": "markdown",
   "metadata": {},
   "source": [
    "# Step 2: Preprocessing"
   ]
  },
  {
   "cell_type": "markdown",
   "metadata": {},
   "source": [
    "## A. General"
   ]
  },
  {
   "cell_type": "code",
   "execution_count": 88,
   "metadata": {},
   "outputs": [
    {
     "data": {
      "text/plain": [
       "Date     datetime64[ns]\n",
       "Time             object\n",
       "State            object\n",
       "Group            object\n",
       "Unit              int64\n",
       "Sales             int64\n",
       "dtype: object"
      ]
     },
     "execution_count": 88,
     "metadata": {},
     "output_type": "execute_result"
    }
   ],
   "source": [
    "src_df.dtypes"
   ]
  },
  {
   "cell_type": "code",
   "execution_count": 89,
   "metadata": {},
   "outputs": [],
   "source": [
    "# Convert object to string\n",
    "src_df['Time'] = src_df['Time'].astype('string')\n",
    "src_df['State'] = src_df['State'].astype('string')\n",
    "src_df['Group'] = src_df['Group'].astype('string')"
   ]
  },
  {
   "cell_type": "code",
   "execution_count": 90,
   "metadata": {},
   "outputs": [
    {
     "data": {
      "text/plain": [
       "Date     datetime64[ns]\n",
       "Time     string[python]\n",
       "State    string[python]\n",
       "Group    string[python]\n",
       "Unit              int64\n",
       "Sales             int64\n",
       "dtype: object"
      ]
     },
     "execution_count": 90,
     "metadata": {},
     "output_type": "execute_result"
    }
   ],
   "source": [
    "src_df.dtypes"
   ]
  },
  {
   "cell_type": "markdown",
   "metadata": {},
   "source": [
    "## B. Numerical"
   ]
  },
  {
   "cell_type": "markdown",
   "metadata": {},
   "source": [
    "### 1. Normalization"
   ]
  },
  {
   "cell_type": "code",
   "execution_count": 91,
   "metadata": {},
   "outputs": [
    {
     "data": {
      "text/html": [
       "<div>\n",
       "<style scoped>\n",
       "    .dataframe tbody tr th:only-of-type {\n",
       "        vertical-align: middle;\n",
       "    }\n",
       "\n",
       "    .dataframe tbody tr th {\n",
       "        vertical-align: top;\n",
       "    }\n",
       "\n",
       "    .dataframe thead th {\n",
       "        text-align: right;\n",
       "    }\n",
       "</style>\n",
       "<table border=\"1\" class=\"dataframe\">\n",
       "  <thead>\n",
       "    <tr style=\"text-align: right;\">\n",
       "      <th></th>\n",
       "      <th>Date</th>\n",
       "      <th>Unit</th>\n",
       "      <th>Sales</th>\n",
       "      <th>normalized_Sales</th>\n",
       "      <th>normalized_Unit</th>\n",
       "    </tr>\n",
       "  </thead>\n",
       "  <tbody>\n",
       "    <tr>\n",
       "      <th>count</th>\n",
       "      <td>7560</td>\n",
       "      <td>7560.000000</td>\n",
       "      <td>7560.000000</td>\n",
       "      <td>7560.000000</td>\n",
       "      <td>7560.000000</td>\n",
       "    </tr>\n",
       "    <tr>\n",
       "      <th>mean</th>\n",
       "      <td>2020-11-15 04:00:00.000000256</td>\n",
       "      <td>18.005423</td>\n",
       "      <td>45013.558201</td>\n",
       "      <td>0.254054</td>\n",
       "      <td>0.254054</td>\n",
       "    </tr>\n",
       "    <tr>\n",
       "      <th>min</th>\n",
       "      <td>2020-10-01 00:00:00</td>\n",
       "      <td>2.000000</td>\n",
       "      <td>5000.000000</td>\n",
       "      <td>0.000000</td>\n",
       "      <td>0.000000</td>\n",
       "    </tr>\n",
       "    <tr>\n",
       "      <th>25%</th>\n",
       "      <td>2020-10-23 00:00:00</td>\n",
       "      <td>8.000000</td>\n",
       "      <td>20000.000000</td>\n",
       "      <td>0.095238</td>\n",
       "      <td>0.095238</td>\n",
       "    </tr>\n",
       "    <tr>\n",
       "      <th>50%</th>\n",
       "      <td>2020-11-15 12:00:00</td>\n",
       "      <td>14.000000</td>\n",
       "      <td>35000.000000</td>\n",
       "      <td>0.190476</td>\n",
       "      <td>0.190476</td>\n",
       "    </tr>\n",
       "    <tr>\n",
       "      <th>75%</th>\n",
       "      <td>2020-12-08 00:00:00</td>\n",
       "      <td>26.000000</td>\n",
       "      <td>65000.000000</td>\n",
       "      <td>0.380952</td>\n",
       "      <td>0.380952</td>\n",
       "    </tr>\n",
       "    <tr>\n",
       "      <th>max</th>\n",
       "      <td>2020-12-30 00:00:00</td>\n",
       "      <td>65.000000</td>\n",
       "      <td>162500.000000</td>\n",
       "      <td>1.000000</td>\n",
       "      <td>1.000000</td>\n",
       "    </tr>\n",
       "    <tr>\n",
       "      <th>std</th>\n",
       "      <td>NaN</td>\n",
       "      <td>12.901403</td>\n",
       "      <td>32253.506944</td>\n",
       "      <td>0.204784</td>\n",
       "      <td>0.204784</td>\n",
       "    </tr>\n",
       "  </tbody>\n",
       "</table>\n",
       "</div>"
      ],
      "text/plain": [
       "                                Date         Unit          Sales  \\\n",
       "count                           7560  7560.000000    7560.000000   \n",
       "mean   2020-11-15 04:00:00.000000256    18.005423   45013.558201   \n",
       "min              2020-10-01 00:00:00     2.000000    5000.000000   \n",
       "25%              2020-10-23 00:00:00     8.000000   20000.000000   \n",
       "50%              2020-11-15 12:00:00    14.000000   35000.000000   \n",
       "75%              2020-12-08 00:00:00    26.000000   65000.000000   \n",
       "max              2020-12-30 00:00:00    65.000000  162500.000000   \n",
       "std                              NaN    12.901403   32253.506944   \n",
       "\n",
       "       normalized_Sales  normalized_Unit  \n",
       "count       7560.000000      7560.000000  \n",
       "mean           0.254054         0.254054  \n",
       "min            0.000000         0.000000  \n",
       "25%            0.095238         0.095238  \n",
       "50%            0.190476         0.190476  \n",
       "75%            0.380952         0.380952  \n",
       "max            1.000000         1.000000  \n",
       "std            0.204784         0.204784  "
      ]
     },
     "execution_count": 91,
     "metadata": {},
     "output_type": "execute_result"
    }
   ],
   "source": [
    "from sklearn.preprocessing import MinMaxScaler\n",
    "scaler = MinMaxScaler()\n",
    "\n",
    "src_df['normalized_Sales'] = scaler.fit_transform(src_df[['Sales']])\n",
    "src_df['normalized_Unit'] = scaler.fit_transform(src_df[['Unit']])\n",
    "src_df.describe()\n"
   ]
  },
  {
   "cell_type": "markdown",
   "metadata": {},
   "source": [
    "# Step 3: Data Analysis"
   ]
  },
  {
   "cell_type": "markdown",
   "metadata": {},
   "source": []
  },
  {
   "cell_type": "markdown",
   "metadata": {},
   "source": [
    "## A. Describe the the data"
   ]
  },
  {
   "cell_type": "code",
   "execution_count": 92,
   "metadata": {},
   "outputs": [
    {
     "data": {
      "text/html": [
       "<div>\n",
       "<style scoped>\n",
       "    .dataframe tbody tr th:only-of-type {\n",
       "        vertical-align: middle;\n",
       "    }\n",
       "\n",
       "    .dataframe tbody tr th {\n",
       "        vertical-align: top;\n",
       "    }\n",
       "\n",
       "    .dataframe thead th {\n",
       "        text-align: right;\n",
       "    }\n",
       "</style>\n",
       "<table border=\"1\" class=\"dataframe\">\n",
       "  <thead>\n",
       "    <tr style=\"text-align: right;\">\n",
       "      <th></th>\n",
       "      <th>Date</th>\n",
       "      <th>Unit</th>\n",
       "      <th>Sales</th>\n",
       "      <th>normalized_Sales</th>\n",
       "      <th>normalized_Unit</th>\n",
       "    </tr>\n",
       "  </thead>\n",
       "  <tbody>\n",
       "    <tr>\n",
       "      <th>count</th>\n",
       "      <td>7560</td>\n",
       "      <td>7560.000000</td>\n",
       "      <td>7560.000000</td>\n",
       "      <td>7560.000000</td>\n",
       "      <td>7560.000000</td>\n",
       "    </tr>\n",
       "    <tr>\n",
       "      <th>mean</th>\n",
       "      <td>2020-11-15 04:00:00.000000256</td>\n",
       "      <td>18.005423</td>\n",
       "      <td>45013.558201</td>\n",
       "      <td>0.254054</td>\n",
       "      <td>0.254054</td>\n",
       "    </tr>\n",
       "    <tr>\n",
       "      <th>min</th>\n",
       "      <td>2020-10-01 00:00:00</td>\n",
       "      <td>2.000000</td>\n",
       "      <td>5000.000000</td>\n",
       "      <td>0.000000</td>\n",
       "      <td>0.000000</td>\n",
       "    </tr>\n",
       "    <tr>\n",
       "      <th>25%</th>\n",
       "      <td>2020-10-23 00:00:00</td>\n",
       "      <td>8.000000</td>\n",
       "      <td>20000.000000</td>\n",
       "      <td>0.095238</td>\n",
       "      <td>0.095238</td>\n",
       "    </tr>\n",
       "    <tr>\n",
       "      <th>50%</th>\n",
       "      <td>2020-11-15 12:00:00</td>\n",
       "      <td>14.000000</td>\n",
       "      <td>35000.000000</td>\n",
       "      <td>0.190476</td>\n",
       "      <td>0.190476</td>\n",
       "    </tr>\n",
       "    <tr>\n",
       "      <th>75%</th>\n",
       "      <td>2020-12-08 00:00:00</td>\n",
       "      <td>26.000000</td>\n",
       "      <td>65000.000000</td>\n",
       "      <td>0.380952</td>\n",
       "      <td>0.380952</td>\n",
       "    </tr>\n",
       "    <tr>\n",
       "      <th>max</th>\n",
       "      <td>2020-12-30 00:00:00</td>\n",
       "      <td>65.000000</td>\n",
       "      <td>162500.000000</td>\n",
       "      <td>1.000000</td>\n",
       "      <td>1.000000</td>\n",
       "    </tr>\n",
       "    <tr>\n",
       "      <th>std</th>\n",
       "      <td>NaN</td>\n",
       "      <td>12.901403</td>\n",
       "      <td>32253.506944</td>\n",
       "      <td>0.204784</td>\n",
       "      <td>0.204784</td>\n",
       "    </tr>\n",
       "  </tbody>\n",
       "</table>\n",
       "</div>"
      ],
      "text/plain": [
       "                                Date         Unit          Sales  \\\n",
       "count                           7560  7560.000000    7560.000000   \n",
       "mean   2020-11-15 04:00:00.000000256    18.005423   45013.558201   \n",
       "min              2020-10-01 00:00:00     2.000000    5000.000000   \n",
       "25%              2020-10-23 00:00:00     8.000000   20000.000000   \n",
       "50%              2020-11-15 12:00:00    14.000000   35000.000000   \n",
       "75%              2020-12-08 00:00:00    26.000000   65000.000000   \n",
       "max              2020-12-30 00:00:00    65.000000  162500.000000   \n",
       "std                              NaN    12.901403   32253.506944   \n",
       "\n",
       "       normalized_Sales  normalized_Unit  \n",
       "count       7560.000000      7560.000000  \n",
       "mean           0.254054         0.254054  \n",
       "min            0.000000         0.000000  \n",
       "25%            0.095238         0.095238  \n",
       "50%            0.190476         0.190476  \n",
       "75%            0.380952         0.380952  \n",
       "max            1.000000         1.000000  \n",
       "std            0.204784         0.204784  "
      ]
     },
     "execution_count": 92,
     "metadata": {},
     "output_type": "execute_result"
    }
   ],
   "source": [
    "src_df.describe()"
   ]
  },
  {
   "cell_type": "markdown",
   "metadata": {},
   "source": [
    "## B. Highest Sales Generating Group"
   ]
  },
  {
   "cell_type": "code",
   "execution_count": 93,
   "metadata": {},
   "outputs": [
    {
     "name": "stdout",
     "output_type": "stream",
     "text": [
      "Group:  Men generate maximum sales\n",
      "Group:  Seniors generate minimum sales\n"
     ]
    }
   ],
   "source": [
    "df_group_grouped = src_df.groupby(by='Group')['Sales'].sum()\n",
    "max_sale_group = df_group_grouped.idxmax()\n",
    "min_sale_group = df_group_grouped.idxmin()\n",
    "print(f\"Group: {max_sale_group} generate maximum sales\" )\n",
    "print(f\"Group: {min_sale_group} generate minimum sales\" )"
   ]
  },
  {
   "cell_type": "markdown",
   "metadata": {},
   "source": [
    "## C. Highest Sales Generating State"
   ]
  },
  {
   "cell_type": "code",
   "execution_count": 94,
   "metadata": {},
   "outputs": [
    {
     "name": "stdout",
     "output_type": "stream",
     "text": [
      "State:  WA generate maximum sales\n",
      "State:  NSW generate minimum sales\n"
     ]
    }
   ],
   "source": [
    "df_state_grouped = src_df.groupby(by='State')['State'].sum()\n",
    "max_sale_state = df_state_grouped.idxmax()\n",
    "min_sale_state = df_state_grouped.idxmin()\n",
    "print(f\"State: {max_sale_state} generate maximum sales\" )\n",
    "print(f\"State: {min_sale_state} generate minimum sales\" )"
   ]
  },
  {
   "cell_type": "markdown",
   "metadata": {},
   "source": [
    "## D. Split date into day, month and year and set date as index"
   ]
  },
  {
   "cell_type": "code",
   "execution_count": 95,
   "metadata": {},
   "outputs": [],
   "source": [
    "def get_month(date_var):\n",
    "    return str(date_var).split('-')[1]\n",
    "\n",
    "def get_date(date_var):\n",
    "    return (str(date_var).split('-')[-1]).split(' ')[0]\n",
    "\n",
    "def get_year(date_var):\n",
    "    return (str(date_var).split('-')[0])\n",
    "\n",
    "df_1 = src_df\n",
    "df_1['year'] =  src_df['Date'].apply(lambda x: get_year(x))\n",
    "df_1['month'] =  src_df['Date'].apply(lambda x: get_month(x))\n",
    "df_1['day'] =  src_df['Date'].apply(lambda x: get_date(x))\n",
    "\n",
    "src_df = df_1\n",
    "\n",
    "src_df.set_index('Date', inplace= True)"
   ]
  },
  {
   "cell_type": "markdown",
   "metadata": {},
   "source": [
    "## E. Monthly, Quarterly and weekly Sales"
   ]
  },
  {
   "cell_type": "code",
   "execution_count": 96,
   "metadata": {},
   "outputs": [
    {
     "name": "stdout",
     "output_type": "stream",
     "text": [
      "Month: 12 generate maximum sales\n",
      "Month: 11 generate minimum sales\n"
     ]
    },
    {
     "data": {
      "text/plain": [
       "month\n",
       "10    114290000\n",
       "11     90682500\n",
       "12    135330000\n",
       "Name: Sales, dtype: int64"
      ]
     },
     "execution_count": 96,
     "metadata": {},
     "output_type": "execute_result"
    }
   ],
   "source": [
    "df_month_grouped = src_df.groupby(by='month')['Sales'].sum()\n",
    "max_sale_month = df_month_grouped.idxmax()\n",
    "min_sale_month = df_month_grouped.idxmin()\n",
    "print(f\"Month: {max_sale_month} generate maximum sales\" )\n",
    "print(f\"Month: {min_sale_month} generate minimum sales\" )\n",
    "df_month_grouped"
   ]
  },
  {
   "cell_type": "code",
   "execution_count": 97,
   "metadata": {},
   "outputs": [
    {
     "name": "stderr",
     "output_type": "stream",
     "text": [
      "/tmp/ipykernel_22567/2191126957.py:2: FutureWarning: 'M' is deprecated and will be removed in a future version, please use 'ME' instead.\n",
      "  src_df[[\"Sales\", \"Unit\", \"normalized_Unit\", \"normalized_Sales\"]].resample('M').sum()\n"
     ]
    },
    {
     "data": {
      "text/html": [
       "<div>\n",
       "<style scoped>\n",
       "    .dataframe tbody tr th:only-of-type {\n",
       "        vertical-align: middle;\n",
       "    }\n",
       "\n",
       "    .dataframe tbody tr th {\n",
       "        vertical-align: top;\n",
       "    }\n",
       "\n",
       "    .dataframe thead th {\n",
       "        text-align: right;\n",
       "    }\n",
       "</style>\n",
       "<table border=\"1\" class=\"dataframe\">\n",
       "  <thead>\n",
       "    <tr style=\"text-align: right;\">\n",
       "      <th></th>\n",
       "      <th>Sales</th>\n",
       "      <th>Unit</th>\n",
       "      <th>normalized_Unit</th>\n",
       "      <th>normalized_Sales</th>\n",
       "    </tr>\n",
       "    <tr>\n",
       "      <th>Date</th>\n",
       "      <th></th>\n",
       "      <th></th>\n",
       "      <th></th>\n",
       "      <th></th>\n",
       "    </tr>\n",
       "  </thead>\n",
       "  <tbody>\n",
       "    <tr>\n",
       "      <th>2020-10-31</th>\n",
       "      <td>114290000</td>\n",
       "      <td>45716</td>\n",
       "      <td>645.650794</td>\n",
       "      <td>645.650794</td>\n",
       "    </tr>\n",
       "    <tr>\n",
       "      <th>2020-11-30</th>\n",
       "      <td>90682500</td>\n",
       "      <td>36273</td>\n",
       "      <td>495.761905</td>\n",
       "      <td>495.761905</td>\n",
       "    </tr>\n",
       "    <tr>\n",
       "      <th>2020-12-31</th>\n",
       "      <td>135330000</td>\n",
       "      <td>54132</td>\n",
       "      <td>779.238095</td>\n",
       "      <td>779.238095</td>\n",
       "    </tr>\n",
       "  </tbody>\n",
       "</table>\n",
       "</div>"
      ],
      "text/plain": [
       "                Sales   Unit  normalized_Unit  normalized_Sales\n",
       "Date                                                           \n",
       "2020-10-31  114290000  45716       645.650794        645.650794\n",
       "2020-11-30   90682500  36273       495.761905        495.761905\n",
       "2020-12-31  135330000  54132       779.238095        779.238095"
      ]
     },
     "execution_count": 97,
     "metadata": {},
     "output_type": "execute_result"
    }
   ],
   "source": [
    "# Monthly Sales: approach 2\n",
    "src_df[[\"Sales\", \"Unit\", \"normalized_Unit\", \"normalized_Sales\"]].resample('M').sum()"
   ]
  },
  {
   "cell_type": "code",
   "execution_count": 98,
   "metadata": {},
   "outputs": [
    {
     "name": "stderr",
     "output_type": "stream",
     "text": [
      "/tmp/ipykernel_22567/1007675266.py:2: FutureWarning: 'Q' is deprecated and will be removed in a future version, please use 'QE' instead.\n",
      "  src_df[[\"Sales\", \"Unit\", \"normalized_Unit\", \"normalized_Sales\"]].resample('Q').sum()\n"
     ]
    },
    {
     "data": {
      "text/html": [
       "<div>\n",
       "<style scoped>\n",
       "    .dataframe tbody tr th:only-of-type {\n",
       "        vertical-align: middle;\n",
       "    }\n",
       "\n",
       "    .dataframe tbody tr th {\n",
       "        vertical-align: top;\n",
       "    }\n",
       "\n",
       "    .dataframe thead th {\n",
       "        text-align: right;\n",
       "    }\n",
       "</style>\n",
       "<table border=\"1\" class=\"dataframe\">\n",
       "  <thead>\n",
       "    <tr style=\"text-align: right;\">\n",
       "      <th></th>\n",
       "      <th>Sales</th>\n",
       "      <th>Unit</th>\n",
       "      <th>normalized_Unit</th>\n",
       "      <th>normalized_Sales</th>\n",
       "    </tr>\n",
       "    <tr>\n",
       "      <th>Date</th>\n",
       "      <th></th>\n",
       "      <th></th>\n",
       "      <th></th>\n",
       "      <th></th>\n",
       "    </tr>\n",
       "  </thead>\n",
       "  <tbody>\n",
       "    <tr>\n",
       "      <th>2020-12-31</th>\n",
       "      <td>340302500</td>\n",
       "      <td>136121</td>\n",
       "      <td>1920.650794</td>\n",
       "      <td>1920.650794</td>\n",
       "    </tr>\n",
       "  </tbody>\n",
       "</table>\n",
       "</div>"
      ],
      "text/plain": [
       "                Sales    Unit  normalized_Unit  normalized_Sales\n",
       "Date                                                            \n",
       "2020-12-31  340302500  136121      1920.650794       1920.650794"
      ]
     },
     "execution_count": 98,
     "metadata": {},
     "output_type": "execute_result"
    }
   ],
   "source": [
    "# Quarterly Sales\n",
    "src_df[[\"Sales\", \"Unit\", \"normalized_Unit\", \"normalized_Sales\"]].resample('Q').sum()"
   ]
  },
  {
   "cell_type": "code",
   "execution_count": 99,
   "metadata": {},
   "outputs": [
    {
     "data": {
      "text/html": [
       "<div>\n",
       "<style scoped>\n",
       "    .dataframe tbody tr th:only-of-type {\n",
       "        vertical-align: middle;\n",
       "    }\n",
       "\n",
       "    .dataframe tbody tr th {\n",
       "        vertical-align: top;\n",
       "    }\n",
       "\n",
       "    .dataframe thead th {\n",
       "        text-align: right;\n",
       "    }\n",
       "</style>\n",
       "<table border=\"1\" class=\"dataframe\">\n",
       "  <thead>\n",
       "    <tr style=\"text-align: right;\">\n",
       "      <th></th>\n",
       "      <th>Sales</th>\n",
       "      <th>Unit</th>\n",
       "      <th>normalized_Unit</th>\n",
       "      <th>normalized_Sales</th>\n",
       "    </tr>\n",
       "    <tr>\n",
       "      <th>Date</th>\n",
       "      <th></th>\n",
       "      <th></th>\n",
       "      <th></th>\n",
       "      <th></th>\n",
       "    </tr>\n",
       "  </thead>\n",
       "  <tbody>\n",
       "    <tr>\n",
       "      <th>2020-10-05</th>\n",
       "      <td>18907500</td>\n",
       "      <td>7563</td>\n",
       "      <td>106.714286</td>\n",
       "      <td>106.714286</td>\n",
       "    </tr>\n",
       "    <tr>\n",
       "      <th>2020-10-12</th>\n",
       "      <td>26935000</td>\n",
       "      <td>10774</td>\n",
       "      <td>152.349206</td>\n",
       "      <td>152.349206</td>\n",
       "    </tr>\n",
       "    <tr>\n",
       "      <th>2020-10-19</th>\n",
       "      <td>26805000</td>\n",
       "      <td>10722</td>\n",
       "      <td>151.523810</td>\n",
       "      <td>151.523810</td>\n",
       "    </tr>\n",
       "    <tr>\n",
       "      <th>2020-10-26</th>\n",
       "      <td>26590000</td>\n",
       "      <td>10636</td>\n",
       "      <td>150.158730</td>\n",
       "      <td>150.158730</td>\n",
       "    </tr>\n",
       "    <tr>\n",
       "      <th>2020-11-02</th>\n",
       "      <td>20797500</td>\n",
       "      <td>8319</td>\n",
       "      <td>116.047619</td>\n",
       "      <td>116.047619</td>\n",
       "    </tr>\n",
       "    <tr>\n",
       "      <th>2020-11-09</th>\n",
       "      <td>21065000</td>\n",
       "      <td>8426</td>\n",
       "      <td>115.079365</td>\n",
       "      <td>115.079365</td>\n",
       "    </tr>\n",
       "    <tr>\n",
       "      <th>2020-11-16</th>\n",
       "      <td>21242500</td>\n",
       "      <td>8497</td>\n",
       "      <td>116.206349</td>\n",
       "      <td>116.206349</td>\n",
       "    </tr>\n",
       "    <tr>\n",
       "      <th>2020-11-23</th>\n",
       "      <td>21187500</td>\n",
       "      <td>8475</td>\n",
       "      <td>115.857143</td>\n",
       "      <td>115.857143</td>\n",
       "    </tr>\n",
       "    <tr>\n",
       "      <th>2020-11-30</th>\n",
       "      <td>21442500</td>\n",
       "      <td>8577</td>\n",
       "      <td>117.476190</td>\n",
       "      <td>117.476190</td>\n",
       "    </tr>\n",
       "    <tr>\n",
       "      <th>2020-12-07</th>\n",
       "      <td>30817500</td>\n",
       "      <td>12327</td>\n",
       "      <td>177.000000</td>\n",
       "      <td>177.000000</td>\n",
       "    </tr>\n",
       "    <tr>\n",
       "      <th>2020-12-14</th>\n",
       "      <td>32060000</td>\n",
       "      <td>12824</td>\n",
       "      <td>184.888889</td>\n",
       "      <td>184.888889</td>\n",
       "    </tr>\n",
       "    <tr>\n",
       "      <th>2020-12-21</th>\n",
       "      <td>31247500</td>\n",
       "      <td>12499</td>\n",
       "      <td>179.730159</td>\n",
       "      <td>179.730159</td>\n",
       "    </tr>\n",
       "    <tr>\n",
       "      <th>2020-12-28</th>\n",
       "      <td>32007500</td>\n",
       "      <td>12803</td>\n",
       "      <td>184.555556</td>\n",
       "      <td>184.555556</td>\n",
       "    </tr>\n",
       "    <tr>\n",
       "      <th>2021-01-04</th>\n",
       "      <td>9197500</td>\n",
       "      <td>3679</td>\n",
       "      <td>53.063492</td>\n",
       "      <td>53.063492</td>\n",
       "    </tr>\n",
       "  </tbody>\n",
       "</table>\n",
       "</div>"
      ],
      "text/plain": [
       "               Sales   Unit  normalized_Unit  normalized_Sales\n",
       "Date                                                          \n",
       "2020-10-05  18907500   7563       106.714286        106.714286\n",
       "2020-10-12  26935000  10774       152.349206        152.349206\n",
       "2020-10-19  26805000  10722       151.523810        151.523810\n",
       "2020-10-26  26590000  10636       150.158730        150.158730\n",
       "2020-11-02  20797500   8319       116.047619        116.047619\n",
       "2020-11-09  21065000   8426       115.079365        115.079365\n",
       "2020-11-16  21242500   8497       116.206349        116.206349\n",
       "2020-11-23  21187500   8475       115.857143        115.857143\n",
       "2020-11-30  21442500   8577       117.476190        117.476190\n",
       "2020-12-07  30817500  12327       177.000000        177.000000\n",
       "2020-12-14  32060000  12824       184.888889        184.888889\n",
       "2020-12-21  31247500  12499       179.730159        179.730159\n",
       "2020-12-28  32007500  12803       184.555556        184.555556\n",
       "2021-01-04   9197500   3679        53.063492         53.063492"
      ]
     },
     "execution_count": 99,
     "metadata": {},
     "output_type": "execute_result"
    }
   ],
   "source": [
    "# Weekly Sales\n",
    "src_df[[\"Sales\", \"Unit\", \"normalized_Unit\", \"normalized_Sales\"]].resample('W-MON').sum()"
   ]
  },
  {
   "cell_type": "code",
   "execution_count": null,
   "metadata": {},
   "outputs": [],
   "source": []
  }
 ],
 "metadata": {
  "kernelspec": {
   "display_name": ".venv",
   "language": "python",
   "name": "python3"
  },
  "language_info": {
   "codemirror_mode": {
    "name": "ipython",
    "version": 3
   },
   "file_extension": ".py",
   "mimetype": "text/x-python",
   "name": "python",
   "nbconvert_exporter": "python",
   "pygments_lexer": "ipython3",
   "version": "3.10.12"
  }
 },
 "nbformat": 4,
 "nbformat_minor": 2
}
